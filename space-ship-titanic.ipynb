{
 "cells": [
  {
   "cell_type": "code",
   "execution_count": 1,
   "id": "40bbb59d",
   "metadata": {
    "_cell_guid": "b1076dfc-b9ad-4769-8c92-a6c4dae69d19",
    "_uuid": "8f2839f25d086af736a60e9eeb907d3b93b6e0e5",
    "execution": {
     "iopub.execute_input": "2023-06-30T15:56:20.430703Z",
     "iopub.status.busy": "2023-06-30T15:56:20.430357Z",
     "iopub.status.idle": "2023-06-30T15:56:23.351504Z",
     "shell.execute_reply": "2023-06-30T15:56:23.350347Z"
    },
    "papermill": {
     "duration": 2.927167,
     "end_time": "2023-06-30T15:56:23.354134",
     "exception": false,
     "start_time": "2023-06-30T15:56:20.426967",
     "status": "completed"
    },
    "tags": []
   },
   "outputs": [
    {
     "name": "stdout",
     "output_type": "stream",
     "text": [
      "/kaggle/input/spaceship-titanic/sample_submission.csv\n",
      "/kaggle/input/spaceship-titanic/train.csv\n",
      "/kaggle/input/spaceship-titanic/test.csv\n",
      "4277\n",
      "test shape (4277, 16)\n"
     ]
    }
   ],
   "source": [
    "### This Python 3 environment comes with many helpful analytics libraries installed\n",
    "# It is defined by the kaggle/python Docker image: https://github.com/kaggle/docker-python\n",
    "# For example, here's several helpful packages to load\n",
    "\n",
    "import numpy as np # linear algebra\n",
    "import pandas as pd # data processing, CSV file I/O (e.g. pd.read_csv)\n",
    "from sklearn.feature_selection import SelectFromModel\n",
    "from sklearn.impute import SimpleImputer\n",
    "from sklearn.ensemble import RandomForestClassifier\n",
    "from sklearn.preprocessing import OneHotEncoder\n",
    "\n",
    "\n",
    "\n",
    "# Input data files are available in the read-only \"../input/\" directory\n",
    "# For example, running this (by clicking run or pressing Shift+Enter) will list all files under the input directory\n",
    "\n",
    "import os\n",
    "for dirname, _, filenames in os.walk('/kaggle/input'):\n",
    "    for filename in filenames:\n",
    "        print(os.path.join(dirname, filename))\n",
    "\n",
    "# You can write up to 20GB to the current directory (/kaggle/working/) that gets preserved as output when you create a version using \"Save & Run All\" \n",
    "# You can also write temporary files to /kaggle/temp/, but they won't be saved outside of the current session\n",
    "train_data = pd.read_csv(\"/kaggle/input/spaceship-titanic/train.csv\")\n",
    "test_data = pd.read_csv(\"/kaggle/input/spaceship-titanic/test.csv\")\n",
    "print(test_data.shape[0])\n",
    "imputer = SimpleImputer(missing_values=np.NaN, strategy='mean')\n",
    "test_data[\"CryoSleep\"].fillna(test_data[\"CryoSleep\"].mode(),inplace=True)\n",
    "test_data[\"VIP\"].fillna(test_data[\"VIP\"].mode(),inplace=True)\n",
    "new_train = train_data.dropna()\n",
    "\n",
    "new_train1 = new_train.drop(['PassengerId','Cabin','Name','Transported'],axis=1)\n",
    "new_test1 = test_data.drop(['PassengerId','Cabin','Name'],axis=1)\n",
    "\n",
    "\n",
    "features = ['HomePlanet', 'CryoSleep', 'Destination', 'VIP']\n",
    "new_new_train = pd.get_dummies(new_train1,columns=features)\n",
    "Y = pd.get_dummies(new_train['Transported'])\n",
    "new_new_test = pd.get_dummies(new_test1,columns=features)\n",
    "\n",
    "new_new_test.fillna(1,inplace=True)\n",
    "    \n",
    "\n",
    "#print(\"training shape\",new_new_train.shape)\n",
    "print(\"test shape\",new_new_test.shape)\n",
    "\n",
    "\n",
    "\n",
    "\n",
    "mymodel = RandomForestClassifier(n_estimators=100,max_depth=10,random_state=1)\n",
    "mymodel.fit(new_new_train,Y)\n",
    "\n",
    "\n",
    "predictions = mymodel.predict(new_new_test)\n",
    "\n",
    "length = predictions.shape[0]\n",
    "edited_predictions = []\n",
    "for i in range(length):\n",
    "    if predictions[i][0] == 1 and predictions[i][1] == 0:\n",
    "        edited_predictions.append(False)\n",
    "    else:\n",
    "        edited_predictions.append(True)\n",
    "\n",
    "output = pd.DataFrame({\"PassengerId\":test_data.PassengerId,\"Transported\":edited_predictions})\n",
    "output.to_csv(\"new_submission.csv\",index=False)\n",
    "\n",
    "\n",
    "\n",
    "\n",
    "\n",
    "\n",
    "\n",
    "\n",
    "\n",
    "\n",
    "\n",
    "\n",
    "\n",
    "\n",
    "\n",
    "\n"
   ]
  },
  {
   "cell_type": "code",
   "execution_count": null,
   "id": "69750fdd",
   "metadata": {
    "papermill": {
     "duration": 0.001181,
     "end_time": "2023-06-30T15:56:23.357177",
     "exception": false,
     "start_time": "2023-06-30T15:56:23.355996",
     "status": "completed"
    },
    "tags": []
   },
   "outputs": [],
   "source": []
  }
 ],
 "metadata": {
  "kernelspec": {
   "display_name": "Python 3",
   "language": "python",
   "name": "python3"
  },
  "language_info": {
   "codemirror_mode": {
    "name": "ipython",
    "version": 3
   },
   "file_extension": ".py",
   "mimetype": "text/x-python",
   "name": "python",
   "nbconvert_exporter": "python",
   "pygments_lexer": "ipython3",
   "version": "3.10.10"
  },
  "papermill": {
   "default_parameters": {},
   "duration": 13.3172,
   "end_time": "2023-06-30T15:56:24.279507",
   "environment_variables": {},
   "exception": null,
   "input_path": "__notebook__.ipynb",
   "output_path": "__notebook__.ipynb",
   "parameters": {},
   "start_time": "2023-06-30T15:56:10.962307",
   "version": "2.4.0"
  }
 },
 "nbformat": 4,
 "nbformat_minor": 5
}
